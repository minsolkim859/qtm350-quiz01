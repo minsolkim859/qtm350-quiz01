{
 "cells": [
  {
   "cell_type": "markdown",
   "metadata": {},
   "source": [
    "Quiz 01 - Forking and Enhancing an Existing GitHub Repository"
   ]
  },
  {
   "cell_type": "markdown",
   "metadata": {},
   "source": [
    "Create and switch to a new branch named feature-update."
   ]
  },
  {
   "cell_type": "code",
   "execution_count": 2,
   "metadata": {},
   "outputs": [
    {
     "name": "stderr",
     "output_type": "stream",
     "text": [
      "Switched to a new branch 'feature-update'\n"
     ]
    },
    {
     "name": "stdout",
     "output_type": "stream",
     "text": [
      "* feature-update\n",
      "  main\n"
     ]
    }
   ],
   "source": [
    "%%bash\n",
    "git checkout -b feature-update\n",
    "git branch"
   ]
  },
  {
   "cell_type": "markdown",
   "metadata": {},
   "source": [
    "Create a new directory called reports within the repository."
   ]
  },
  {
   "cell_type": "code",
   "execution_count": 4,
   "metadata": {},
   "outputs": [],
   "source": [
    "%%bash\n",
    "mkdir reports"
   ]
  },
  {
   "cell_type": "markdown",
   "metadata": {},
   "source": [
    "Inside the reports directory, create an empty file named summary.md using the command line."
   ]
  },
  {
   "cell_type": "code",
   "execution_count": 6,
   "metadata": {},
   "outputs": [],
   "source": [
    "%%bash\n",
    "cd reports\n",
    "touch summary.md"
   ]
  },
  {
   "cell_type": "markdown",
   "metadata": {},
   "source": [
    "Use a command to add the following line to summary.md: This document provides a summary of the project updates."
   ]
  },
  {
   "cell_type": "code",
   "execution_count": 7,
   "metadata": {},
   "outputs": [],
   "source": [
    "%%bash\n",
    "echo \"This document provides a summary of the project updates.\" >> summary.md"
   ]
  },
  {
   "cell_type": "markdown",
   "metadata": {},
   "source": [
    "Stage the newly created reports directory."
   ]
  },
  {
   "cell_type": "code",
   "execution_count": 8,
   "metadata": {},
   "outputs": [
    {
     "name": "stdout",
     "output_type": "stream",
     "text": [
      "Reinitialized existing Git repository in /Users/mansol/Desktop/FALL_2024/qtm350-quiz01/.git/\n",
      "On branch feature-update\n",
      "Changes to be committed:\n",
      "  (use \"git restore --staged <file>...\" to unstage)\n",
      "\tnew file:   command.ipynb\n",
      "\tnew file:   reports/summary.md\n",
      "\tnew file:   summary.md\n",
      "\n"
     ]
    }
   ],
   "source": [
    "%%bash\n",
    "git init\n",
    "git add . \n",
    "git status"
   ]
  },
  {
   "cell_type": "markdown",
   "metadata": {},
   "source": [
    "Commit the staged changes with the message \"Add reports directory\".\n"
   ]
  },
  {
   "cell_type": "code",
   "execution_count": 12,
   "metadata": {},
   "outputs": [
    {
     "name": "stdout",
     "output_type": "stream",
     "text": [
      "[feature-update fa13741] Add reports directory\n",
      " 3 files changed, 137 insertions(+)\n",
      " create mode 100644 command.ipynb\n",
      " create mode 100644 reports/summary.md\n",
      " create mode 100644 summary.md\n"
     ]
    }
   ],
   "source": [
    "%%bash\n",
    "git commit -m \"Add reports directory\""
   ]
  },
  {
   "cell_type": "markdown",
   "metadata": {},
   "source": [
    "Open commands.txt and paste all the commands used up to this point.\n"
   ]
  },
  {
   "cell_type": "markdown",
   "metadata": {},
   "source": [
    "**Look at the commands on this `command.ipynb` file**"
   ]
  },
  {
   "cell_type": "markdown",
   "metadata": {},
   "source": [
    "Create three empty text files named file1.txt, file2.txt, and file3.txt in the reports folder using a single command with brace expansion."
   ]
  },
  {
   "cell_type": "code",
   "execution_count": 21,
   "metadata": {},
   "outputs": [],
   "source": [
    "%%bash\n",
    "cd reports\n",
    "touch file{1..3}.txt"
   ]
  },
  {
   "cell_type": "markdown",
   "metadata": {},
   "source": [
    "Rename the file data/raw-data.csv to data/input-data.csv."
   ]
  },
  {
   "cell_type": "code",
   "execution_count": 22,
   "metadata": {},
   "outputs": [],
   "source": [
    "%%bash\n",
    "mv data/raw-data.csv data/input-data.csv"
   ]
  },
  {
   "cell_type": "markdown",
   "metadata": {},
   "source": [
    "Create a new directory named backup inside the scripts directory, then copy all .py files from the scripts directory to the newly created backup directory. Use wildcards to copy the files and chain both commands in a single line of code."
   ]
  },
  {
   "cell_type": "code",
   "execution_count": 39,
   "metadata": {},
   "outputs": [],
   "source": [
    "%%bash\n",
    "mkdir scripts/backup && cp scripts/*.py scripts/backup/"
   ]
  },
  {
   "cell_type": "markdown",
   "metadata": {},
   "source": [
    "Delete the docs/documentation.md file"
   ]
  },
  {
   "cell_type": "code",
   "execution_count": 42,
   "metadata": {},
   "outputs": [],
   "source": [
    "%%bash\n",
    "rm docs/documentation.md "
   ]
  },
  {
   "cell_type": "markdown",
   "metadata": {},
   "source": [
    "Stage and commit all changes so far. Add the message \"Update project files\".\n"
   ]
  },
  {
   "cell_type": "code",
   "execution_count": 43,
   "metadata": {},
   "outputs": [
    {
     "name": "stdout",
     "output_type": "stream",
     "text": [
      "[feature-update c4731ee] Update project files.\n",
      " 9 files changed, 139 insertions(+), 5 deletions(-)\n",
      " rename data/{raw-data.csv => input-data.csv} (100%)\n",
      " delete mode 100644 docs/documentation.md\n",
      " create mode 100644 reports/file1.txt\n",
      " create mode 100644 reports/file2.txt\n",
      " create mode 100644 reports/file3.txt\n",
      " create mode 100644 scripts/backup/01-setup.py\n",
      " create mode 100644 scripts/backup/02-data-cleaning.py\n",
      " create mode 100644 scripts/backup/03-data-modelling.py\n"
     ]
    }
   ],
   "source": [
    "%%bash\n",
    "git add . \n",
    "git commit -m \"Update project files.\""
   ]
  },
  {
   "cell_type": "markdown",
   "metadata": {},
   "source": [
    "Create a new file named .gitignore in the root of the repository."
   ]
  },
  {
   "cell_type": "code",
   "execution_count": 44,
   "metadata": {},
   "outputs": [],
   "source": [
    "%%bash\n",
    "touch .gitignore"
   ]
  },
  {
   "cell_type": "markdown",
   "metadata": {},
   "source": [
    "Add the following lines to .gitignore using the command line:"
   ]
  },
  {
   "cell_type": "code",
   "execution_count": 46,
   "metadata": {},
   "outputs": [],
   "source": [
    "%%bash\n",
    "echo \"temp/dataset0?.csv\" >> .gitignore"
   ]
  },
  {
   "cell_type": "markdown",
   "metadata": {},
   "source": [
    "Read the contents of your .gitignore file using the command line.\n"
   ]
  },
  {
   "cell_type": "code",
   "execution_count": 48,
   "metadata": {},
   "outputs": [
    {
     "name": "stdout",
     "output_type": "stream",
     "text": [
      "temp/dataset0?.csv\n"
     ]
    }
   ],
   "source": [
    "%%bash\n",
    "cat .gitignore"
   ]
  },
  {
   "cell_type": "markdown",
   "metadata": {},
   "source": [
    "Stage and commit the .gitignore file with the message \"Add .gitignore file\". Use only one line to do both."
   ]
  },
  {
   "cell_type": "code",
   "execution_count": 53,
   "metadata": {},
   "outputs": [
    {
     "name": "stdout",
     "output_type": "stream",
     "text": [
      "[feature-update 01d8af2] Add .gitignore file\n",
      " 1 file changed, 135 insertions(+)\n"
     ]
    }
   ],
   "source": [
    "%%bash\n",
    "git add . && git commit -m \"Add .gitignore file\""
   ]
  },
  {
   "cell_type": "markdown",
   "metadata": {},
   "source": [
    "Switch back to the main branch and merge the feature-update branch into main.\n"
   ]
  },
  {
   "cell_type": "code",
   "execution_count": 54,
   "metadata": {},
   "outputs": [
    {
     "name": "stderr",
     "output_type": "stream",
     "text": [
      "Switched to branch 'main'\n"
     ]
    },
    {
     "name": "stdout",
     "output_type": "stream",
     "text": [
      "Your branch is up to date with 'origin/main'.\n",
      "Updating 651c914..01d8af2\n",
      "Fast-forward\n",
      " .gitignore                            |   1 +\n",
      " command.ipynb                         | 406 ++++++++++++++++++++++++++++++++++\n",
      " data/{raw-data.csv => input-data.csv} |   0\n",
      " docs/documentation.md                 |   1 -\n",
      " reports/file1.txt                     |   0\n",
      " reports/file2.txt                     |   0\n",
      " reports/file3.txt                     |   0\n",
      " reports/summary.md                    |   0\n",
      " scripts/backup/01-setup.py            |   0\n",
      " scripts/backup/02-data-cleaning.py    |   0\n",
      " scripts/backup/03-data-modelling.py   |   0\n",
      " summary.md                            |   1 +\n",
      " 12 files changed, 408 insertions(+), 1 deletion(-)\n",
      " create mode 100644 .gitignore\n",
      " create mode 100644 command.ipynb\n",
      " rename data/{raw-data.csv => input-data.csv} (100%)\n",
      " delete mode 100644 docs/documentation.md\n",
      " create mode 100644 reports/file1.txt\n",
      " create mode 100644 reports/file2.txt\n",
      " create mode 100644 reports/file3.txt\n",
      " create mode 100644 reports/summary.md\n",
      " create mode 100644 scripts/backup/01-setup.py\n",
      " create mode 100644 scripts/backup/02-data-cleaning.py\n",
      " create mode 100644 scripts/backup/03-data-modelling.py\n",
      " create mode 100644 summary.md\n"
     ]
    }
   ],
   "source": [
    "%%bash\n",
    "git checkout main\n",
    "git merge feature-update"
   ]
  },
  {
   "cell_type": "markdown",
   "metadata": {},
   "source": [
    "Push the updated main branch to your forked repository on GitHub."
   ]
  },
  {
   "cell_type": "code",
   "execution_count": 59,
   "metadata": {},
   "outputs": [
    {
     "name": "stderr",
     "output_type": "stream",
     "text": [
      "To https://github.com/minsolkim859/qtm350-quiz01.git\n",
      "   651c914..01d8af2  main -> main\n"
     ]
    }
   ],
   "source": [
    "%%bash\n",
    "git push"
   ]
  },
  {
   "cell_type": "markdown",
   "metadata": {},
   "source": [
    "Delete the feature-update branch from your local machine."
   ]
  },
  {
   "cell_type": "markdown",
   "metadata": {},
   "source": [
    "Delete the feature-update branch from your forked repository on GitHub using the command line."
   ]
  },
  {
   "cell_type": "code",
   "execution_count": 60,
   "metadata": {},
   "outputs": [
    {
     "name": "stdout",
     "output_type": "stream",
     "text": [
      "Deleted branch feature-update (was 01d8af2).\n"
     ]
    }
   ],
   "source": [
    "%%bash\n",
    "git branch -d feature-update"
   ]
  }
 ],
 "metadata": {
  "kernelspec": {
   "display_name": "base",
   "language": "python",
   "name": "python3"
  },
  "language_info": {
   "codemirror_mode": {
    "name": "ipython",
    "version": 3
   },
   "file_extension": ".py",
   "mimetype": "text/x-python",
   "name": "python",
   "nbconvert_exporter": "python",
   "pygments_lexer": "ipython3",
   "version": "3.11.4"
  }
 },
 "nbformat": 4,
 "nbformat_minor": 2
}
